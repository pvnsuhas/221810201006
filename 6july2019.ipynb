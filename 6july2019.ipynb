{
 "cells": [
  {
   "cell_type": "code",
   "execution_count": 1,
   "metadata": {},
   "outputs": [
    {
     "name": "stdout",
     "output_type": "stream",
     "text": [
      "enter number 1:12\n",
      "enter number 2:13\n",
      "enter number 3:14\n",
      "14 is large number\n"
     ]
    }
   ],
   "source": [
    "# greater of three numbers\n",
    "a=int(input(\"enter number 1:\"))\n",
    "b=int(input(\"enter number 2:\"))    \n",
    "c=int(input(\"enter number 3:\"))    \n",
    "if a>b and a>c:\n",
    "            print(a,\"is large number\")\n",
    "elif b>a and a>c:\n",
    "            print(b,\"is large number\")\n",
    "else: \n",
    "            print(c,\"is large number\")"
   ]
  },
  {
   "cell_type": "code",
   "execution_count": 2,
   "metadata": {},
   "outputs": [
    {
     "name": "stdout",
     "output_type": "stream",
     "text": [
      "enter the year:2016\n",
      "2016 leap year\n"
     ]
    }
   ],
   "source": [
    "# check if a year is leap or not\n",
    "a=int(input(\"enter the year:\"))\n",
    "if a%4==0:\n",
    "    print(a,\"leap year\")\n",
    "else:    \n",
    "    print(a,\"not leap year\")"
   ]
  },
  {
   "cell_type": "markdown",
   "metadata": {},
   "source": [
    "## Iterations\n",
    "### while\n",
    "### do\n",
    "### for\n",
    "\n"
   ]
  },
  {
   "cell_type": "code",
   "execution_count": null,
   "metadata": {},
   "outputs": [],
   "source": []
  },
  {
   "cell_type": "markdown",
   "metadata": {},
   "source": [
    " # while\n",
    "* syntax\n",
    "           while boolean_condition\n",
    "           statement\n",
    "           increment/decrement\n",
    "  "
   ]
  },
  {
   "cell_type": "code",
   "execution_count": 3,
   "metadata": {},
   "outputs": [
    {
     "name": "stdout",
     "output_type": "stream",
     "text": [
      "nikitha\n",
      "nikitha\n",
      "nikitha\n",
      "nikitha\n",
      "nikitha\n"
     ]
    }
   ],
   "source": [
    "# using while\n",
    "x=0\n",
    "while x<5:\n",
    "    print(\"nikitha\")\n",
    "    x=x+1"
   ]
  },
  {
   "cell_type": "code",
   "execution_count": 4,
   "metadata": {},
   "outputs": [
    {
     "name": "stdout",
     "output_type": "stream",
     "text": [
      "enter a number:10\n",
      "1 2 3 4 5 6 7 8 9 10 "
     ]
    }
   ],
   "source": [
    "# print N natural number using while loop\n",
    "x=int(input(\"enter a number:\"))\n",
    "i=1\n",
    "while i<=x:\n",
    "    print(i,end=\" \")\n",
    "    i=i+1"
   ]
  },
  {
   "cell_type": "code",
   "execution_count": 5,
   "metadata": {},
   "outputs": [
    {
     "name": "stdout",
     "output_type": "stream",
     "text": [
      "enter a number:10\n",
      "30\n"
     ]
    }
   ],
   "source": [
    "# read numbers between 1 to n\n",
    "# add even numbers between 1 to n\n",
    "n=int(input(\"enter a number:\"))\n",
    "i=1\n",
    "sum=0\n",
    "while i<=n:\n",
    "    if i%2==0:\n",
    "      sum=sum+i\n",
    "    \n",
    "    i=i+1\n",
    "print(sum)        \n",
    "    "
   ]
  },
  {
   "cell_type": "code",
   "execution_count": 6,
   "metadata": {},
   "outputs": [
    {
     "name": "stdout",
     "output_type": "stream",
     "text": [
      "enter number123\n",
      "3 2 1 "
     ]
    }
   ],
   "source": [
    "# print the digits of given number in reverse\n",
    "# example---123---321\n",
    "n=int(input(\"enter number\"))\n",
    "while n!=0:\n",
    "    r=n%10\n",
    "    print(r,end=\" \")\n",
    "    n=n//10\n",
    "    \n",
    "\n"
   ]
  },
  {
   "cell_type": "markdown",
   "metadata": {},
   "source": [
    "### functional programming\n",
    "   * simple\n",
    "   * easy to read\n",
    "   * lengthy program divides into sub programs"
   ]
  },
  {
   "cell_type": "code",
   "execution_count": 7,
   "metadata": {},
   "outputs": [
    {
     "ename": "SyntaxError",
     "evalue": "invalid syntax (<ipython-input-7-b8d884b40adc>, line 1)",
     "output_type": "error",
     "traceback": [
      "\u001b[1;36m  File \u001b[1;32m\"<ipython-input-7-b8d884b40adc>\"\u001b[1;36m, line \u001b[1;32m1\u001b[0m\n\u001b[1;33m    def nameofthefunction (<parameters>):\u001b[0m\n\u001b[1;37m                           ^\u001b[0m\n\u001b[1;31mSyntaxError\u001b[0m\u001b[1;31m:\u001b[0m invalid syntax\n"
     ]
    }
   ],
   "source": [
    "def nameofthefunction (<parameters>):\n",
    "    statement\n",
    "    return\n"
   ]
  },
  {
   "cell_type": "code",
   "execution_count": 1,
   "metadata": {},
   "outputs": [
    {
     "ename": "SyntaxError",
     "evalue": "invalid syntax (<ipython-input-1-1358789b52e1>, line 4)",
     "output_type": "error",
     "traceback": [
      "\u001b[1;36m  File \u001b[1;32m\"<ipython-input-1-1358789b52e1>\"\u001b[1;36m, line \u001b[1;32m4\u001b[0m\n\u001b[1;33m    while\u001b[0m\n\u001b[1;37m          ^\u001b[0m\n\u001b[1;31mSyntaxError\u001b[0m\u001b[1;31m:\u001b[0m invalid syntax\n"
     ]
    }
   ],
   "source": [
    "# read a number ---1234\n",
    "# output--6(2+4)\n",
    "def addevendigits(n):\n",
    "    while \n",
    "    return\n",
    "addevendigits(1234)"
   ]
  },
  {
   "cell_type": "code",
   "execution_count": null,
   "metadata": {},
   "outputs": [],
   "source": []
  }
 ],
 "metadata": {
  "kernelspec": {
   "display_name": "Python 3",
   "language": "python",
   "name": "python3"
  },
  "language_info": {
   "codemirror_mode": {
    "name": "ipython",
    "version": 3
   },
   "file_extension": ".py",
   "mimetype": "text/x-python",
   "name": "python",
   "nbconvert_exporter": "python",
   "pygments_lexer": "ipython3",
   "version": "3.7.3"
  }
 },
 "nbformat": 4,
 "nbformat_minor": 2
}
